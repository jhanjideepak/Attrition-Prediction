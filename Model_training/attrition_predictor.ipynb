{
 "cells": [
  {
   "cell_type": "code",
   "execution_count": 1,
   "metadata": {},
   "outputs": [
    {
     "name": "stderr",
     "output_type": "stream",
     "text": [
      "C:\\Users\\utktripa1\\AppData\\Local\\Continuum\\anaconda3\\lib\\site-packages\\sklearn\\cross_validation.py:41: DeprecationWarning: This module was deprecated in version 0.18 in favor of the model_selection module into which all the refactored classes and functions are moved. Also note that the interface of the new CV iterators are different from that of this module. This module will be removed in 0.20.\n",
      "  \"This module will be removed in 0.20.\", DeprecationWarning)\n"
     ]
    }
   ],
   "source": [
    "from Data_Processing import *\n",
    "from xgboost import plot_importance\n",
    "import pandas as pd\n",
    "import numpy as np\n",
    "import pickle\n",
    "from sklearn.metrics import confusion_matrix\n",
    "from sklearn.metrics import accuracy_score\n",
    "from sklearn.metrics import classification_report\n",
    "from sklearn.metrics import roc_auc_score\n",
    "from sklearn.metrics import roc_curve\n",
    "from xgboost import XGBClassifier\n",
    "from sklearn.cross_validation import KFold\n",
    "from sklearn.model_selection import cross_val_score"
   ]
  },
  {
   "cell_type": "code",
   "execution_count": 2,
   "metadata": {},
   "outputs": [],
   "source": [
    "cat = [\"JobRole\", \"EducationField\", \"Gender\", \"MaritalStatus\", \"BusinessTravel\", \"Department\", \"OverTime\", \\\n",
    "           \"Education\", \"EnvironmentSatisfaction\", \"JobInvolvement\", \"JobSatisfaction\", \"StockOptionLevel\", \"Attrition\"]"
   ]
  },
  {
   "cell_type": "code",
   "execution_count": 3,
   "metadata": {},
   "outputs": [],
   "source": [
    "# Function reads the Data, removes unwanted columns\n",
    "def read_data(wkdir, name):\n",
    "    set_wd(wkdir)\n",
    "    df = pd.read_csv(name, index_col= False)\n",
    "    df.drop(\"EmployeeNumber\", axis=1, inplace= True)\n",
    "    df.drop(\"PerformanceRating\", axis= 1, inplace= True)\n",
    "    df = del_zero_var_cols(df)\n",
    "    return df"
   ]
  },
  {
   "cell_type": "code",
   "execution_count": 4,
   "metadata": {},
   "outputs": [],
   "source": [
    "# Prcocessing and Cleaning Occurs here\n",
    "def process_data(data):\n",
    "    data = new_features(data)\n",
    "    data = conv_categories(data)\n",
    "    data = gen_dummies(data)\n",
    "    return data"
   ]
  },
  {
   "cell_type": "code",
   "execution_count": 5,
   "metadata": {},
   "outputs": [],
   "source": [
    "#Cross validation happens here\n",
    "def cross_val_cal(fold, X, y):\n",
    "    model = model_train_fit(X,y, do_fit= False)\n",
    "    print(np.mean(cross_val_score(model, X, y, cv = fold, scoring= \"roc_auc\")))"
   ]
  },
  {
   "cell_type": "code",
   "execution_count": 7,
   "metadata": {},
   "outputs": [],
   "source": [
    "# Model in trained and model object is returned\n",
    "def model_train_fit(X,y,depth = 6, l_r = 0.001, trees = 1000, sample = 0.9, do_fit = True):\n",
    "    xgb = XGBClassifier(max_depth= depth, learning_rate= l_r, n_estimators= trees, subsample= sample)\n",
    "    if do_fit == True:\n",
    "        xgb.fit(X, y)\n",
    "    return xgb"
   ]
  },
  {
   "cell_type": "code",
   "execution_count": 8,
   "metadata": {},
   "outputs": [],
   "source": [
    "# Prediction on Test Data\n",
    "def predict_data(model, X_test):\n",
    "    y_pred = model.predict(X_test)\n",
    "    y_prob = model.predict_proba(X_test)[:,1]\n",
    "    return y_pred, y_prob"
   ]
  },
  {
   "cell_type": "code",
   "execution_count": 9,
   "metadata": {},
   "outputs": [],
   "source": [
    "# Calcualte Accuracy, ROC_AUC, Precision, Recall, F1-Score\n",
    "def metrics_calc(y_act, y_pred):\n",
    "    print(accuracy_score(y_act, y_pred))\n",
    "    print(roc_auc_score(y_act, y_pred))\n",
    "    print(classification_report(y_act, y_pred))"
   ]
  },
  {
   "cell_type": "code",
   "execution_count": 10,
   "metadata": {},
   "outputs": [],
   "source": [
    "# Plotting the ROC Curve\n",
    "def roc_plot(y_act, y_prob):\n",
    "    \n",
    "    plt.figure()\n",
    "    fig_size = plt.rcParams[\"figure.figsize\"] \n",
    "    fig_size[0] = 15\n",
    "    fig_size[1] = 10\n",
    "    plt.rcParams[\"figure.figsize\"] = fig_size\n",
    "    fig = plt.figure()\n",
    "    fig.patch.set_facecolor('xkcd:grey')\n",
    "    # Compute False postive rate, and True positive rate\n",
    "    fpr, tpr, thresholds = roc_curve(y_act, y_prob)\n",
    "    \n",
    "    # Now, plot the computed values\n",
    "    plt.plot([0, 1], [0, 1],'r--')\n",
    "    plt.plot(fpr, tpr)\n",
    "    plt.title(\"ROC CURVE\")\n",
    "    \n",
    "    # Custom settings for the plot \n",
    "    \n",
    "    plt.xlim([0.0, 1.0])\n",
    "    plt.ylim([0.0, 1.05])\n",
    "    plt.xlabel('1-Specificity(False Positive Rate)')\n",
    "    plt.ylabel('Sensitivity(True Positive Rate)')\n",
    "    plt.legend(loc=\"lower right\")\n",
    "    plt.show()"
   ]
  },
  {
   "cell_type": "code",
   "execution_count": 11,
   "metadata": {},
   "outputs": [],
   "source": [
    "# Pandas Series with Importance of each variable\n",
    "def feature_importance(model, data, train):\n",
    "    imp = pd.Series(model.feature_importances_, index= data[train].columns).sort_values(ascending = False)\n",
    "    print(imp)\n",
    "    return imp"
   ]
  },
  {
   "cell_type": "code",
   "execution_count": 12,
   "metadata": {},
   "outputs": [],
   "source": [
    "# # Dump Model to Pickle\n",
    "# Pickle is a Python libraries which is the best choice to perform the task like\n",
    "# - Pickling  the process converting any Python object into a stream of bytes by following the hierarchy of the object we are trying to convert. \n",
    "# - Unpickling the process of converting the pickled (stream of bytes) back into to the original Python object by following the object hierarchy\n",
    "def pickling(model, name):\n",
    "    model_pkl = open(name, 'wb')\n",
    "    pickle.dump(model, model_pkl)\n",
    "    model_pkl.close()"
   ]
  },
  {
   "cell_type": "code",
   "execution_count": 13,
   "metadata": {},
   "outputs": [],
   "source": [
    "def model_load(name):\n",
    "    model_pkl = open(name, 'rb')\n",
    "    model = pickle.load(model_pkl)\n",
    "    print(\"Loaded model :: \", model)\n",
    "    return model"
   ]
  },
  {
   "cell_type": "code",
   "execution_count": 15,
   "metadata": {},
   "outputs": [
    {
     "name": "stdout",
     "output_type": "stream",
     "text": [
      "C:\\Users\\utktripa1\\Desktop\\howathon\n"
     ]
    }
   ],
   "source": [
    "# # Set working directory\n",
    "wd = \"C:\\\\Users\\\\utktripa1\\\\Desktop\\\\howathon\\\\\" # This should de done manually\n",
    "# Call Read Data function\n",
    "df = read_data(wd, \"attrition.csv\") # File name should be given manually\n",
    "# Call Process Data Function\n",
    "df = process_data(df)\n",
    "# Removing the Target variable and storing ather column names\n",
    "X = list(df.drop(\"Attrition_new\", axis=1).columns)\n",
    "y = \"Attrition_new\"\n",
    "# Splitting the Data\n",
    "X_train, X_test, y_train, y_test = train_test(df,X,y, 0.2)"
   ]
  },
  {
   "cell_type": "code",
   "execution_count": 16,
   "metadata": {},
   "outputs": [
    {
     "name": "stdout",
     "output_type": "stream",
     "text": [
      "0.7588900222493482\n"
     ]
    }
   ],
   "source": [
    "# Performing Cross Validation\n",
    "cross_val_cal(5, df[X], df[y])"
   ]
  },
  {
   "cell_type": "code",
   "execution_count": 17,
   "metadata": {},
   "outputs": [],
   "source": [
    "# Training the model\n",
    "model = model_train_fit(X_train, y_train)"
   ]
  },
  {
   "cell_type": "code",
   "execution_count": 18,
   "metadata": {},
   "outputs": [
    {
     "name": "stderr",
     "output_type": "stream",
     "text": [
      "C:\\Users\\utktripa1\\AppData\\Local\\Continuum\\anaconda3\\lib\\site-packages\\sklearn\\preprocessing\\label.py:151: DeprecationWarning: The truth value of an empty array is ambiguous. Returning False, but in future this will result in an error. Use `array.size > 0` to check that an array is not empty.\n",
      "  if diff:\n"
     ]
    }
   ],
   "source": [
    "# Predicting with model\n",
    "y_pred, y_prob = predict_data(model, X_test)"
   ]
  },
  {
   "cell_type": "code",
   "execution_count": 19,
   "metadata": {},
   "outputs": [
    {
     "name": "stdout",
     "output_type": "stream",
     "text": [
      "0.8605442176870748\n",
      "0.6057855240861778\n",
      "             precision    recall  f1-score   support\n",
      "\n",
      "          0       0.86      1.00      0.92       243\n",
      "          1       0.92      0.22      0.35        51\n",
      "\n",
      "avg / total       0.87      0.86      0.82       294\n",
      "\n"
     ]
    }
   ],
   "source": [
    "# Calculatinf Metrics\n",
    "metrics_calc(y_test, y_pred)"
   ]
  },
  {
   "cell_type": "code",
   "execution_count": 20,
   "metadata": {},
   "outputs": [
    {
     "name": "stderr",
     "output_type": "stream",
     "text": [
      "No handles with labels found to put in legend.\n"
     ]
    },
    {
     "data": {
      "text/plain": [
       "<Figure size 1080x720 with 0 Axes>"
      ]
     },
     "metadata": {},
     "output_type": "display_data"
    },
    {
     "data": {
      "image/png": "[encoded data removed]",
      "text/plain": [
       "<Figure size 1080x720 with 1 Axes>"
      ]
     },
     "metadata": {},
     "output_type": "display_data"
    }
   ],
   "source": [
    "# Plotting Roc\n",
    "roc_plot(y_test, y_prob)"
   ]
  },
  {
   "cell_type": "code",
   "execution_count": 21,
   "metadata": {},
   "outputs": [
    {
     "name": "stdout",
     "output_type": "stream",
     "text": [
      "Age                           0.110760\n",
      "MonthlyIncome                 0.087104\n",
      "DailyRate                     0.071556\n",
      "DistanceFromHome              0.068564\n",
      "MonthlyRate                   0.066299\n",
      "HourlyRate                    0.061126\n",
      "PercentSalaryHike             0.046278\n",
      "NumCompaniesWorked            0.042979\n",
      "TotalWorkingYears             0.037750\n",
      "over_time_2                   0.037358\n",
      "YearsSinceLastPromotion       0.034366\n",
      "Env_satisfaction_3            0.033080\n",
      "YearsAtCompany                0.032549\n",
      "Department_new_2              0.024859\n",
      "TrainingTimesLastYear         0.020748\n",
      "travel_3                      0.020021\n",
      "YearsWithCurrManager          0.019965\n",
      "edu_field_4                   0.015379\n",
      "mar_status_2                  0.014736\n",
      "job_role_2                    0.013059\n",
      "WorkLifeBalance_3             0.012835\n",
      "job_involve_3                 0.011940\n",
      "job_satisfaction_2            0.010850\n",
      "edu_field_2                   0.010738\n",
      "mar_status_3                  0.009032\n",
      "job_role_7                    0.008361\n",
      "RelationshipSatisfaction_4    0.007941\n",
      "WorkLifeBalance_2             0.007606\n",
      "YearsInCurrentRole            0.007047\n",
      "job_role_3                    0.005537\n",
      "travel_2                      0.005033\n",
      "job_involve_2                 0.004977\n",
      "Gender_2                      0.004726\n",
      "Env_satisfaction_2            0.004334\n",
      "RelationshipSatisfaction_3    0.004278\n",
      "JobLevel_3                    0.004055\n",
      "Education_level_2             0.003999\n",
      "edu_field_5                   0.003663\n",
      "JobLevel_2                    0.002796\n",
      "Education_level_3             0.002740\n",
      "edu_field_3                   0.002545\n",
      "stock_level_2                 0.001706\n",
      "RelationshipSatisfaction_2    0.001398\n",
      "job_role_5                    0.001091\n",
      "WorkLifeBalance_4             0.001035\n",
      "edu_field_6                   0.000475\n",
      "job_role_9                    0.000364\n",
      "job_role_6                    0.000168\n",
      "job_role_4                    0.000112\n",
      "Department_new_3              0.000056\n",
      "JobLevel_4                    0.000028\n",
      "JobLevel_5                    0.000000\n",
      "job_role_8                    0.000000\n",
      "dtype: float32\n"
     ]
    }
   ],
   "source": [
    "# Getting Important Features\n",
    "imp_ft = feature_importance(model, df, X)"
   ]
  },
  {
   "cell_type": "code",
   "execution_count": null,
   "metadata": {},
   "outputs": [],
   "source": [
    "name_model = \"model_xgb.pkl\"\n",
    "pickling(model, name_model) # Name has to be provided manually\n",
    "model_load(name_model)"
   ]
  },
  {
   "cell_type": "code",
   "execution_count": null,
   "metadata": {},
   "outputs": [],
   "source": []
  }
 ],
 "metadata": {
  "kernelspec": {
   "display_name": "Python 3",
   "language": "python",
   "name": "python3"
  },
  "language_info": {
   "codemirror_mode": {
    "name": "ipython",
    "version": 3
   },
   "file_extension": ".py",
   "mimetype": "text/x-python",
   "name": "python",
   "nbconvert_exporter": "python",
   "pygments_lexer": "ipython3",
   "version": "3.7.0"
  }
 },
 "nbformat": 4,
 "nbformat_minor": 2
}
